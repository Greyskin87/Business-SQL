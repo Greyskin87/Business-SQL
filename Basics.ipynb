{
 "cells": [
  {
   "cell_type": "markdown",
   "metadata": {
    "collapsed": true
   },
   "source": [
    "# Greyskin87 - SQL project\n",
    "\n",
    "This is a project made as part of the DataQuest path for Data Analysis and Data Science.\n",
    "\n",
    "This project will be focused on querying a Sqlite3 database containing data needed to manage a music shop (employees, consumers, invoices, albums, tracks, etc.)\n"
   ]
  },
  {
   "cell_type": "code",
   "execution_count": 1,
   "metadata": {},
   "outputs": [],
   "source": [
    "# Import relevant modules\n",
    "import sqlite3\n",
    "import pandas as pd\n",
    "import numpy as np\n",
    "import matplotlib.pyplot as plt\n",
    "import seaborn as sns\n",
    "%matplotlib inline\n"
   ]
  },
  {
   "cell_type": "code",
   "execution_count": 2,
   "metadata": {},
   "outputs": [],
   "source": [
    "# Define a function that takes a SQL query as an argument and return a pandas Dataframe\n",
    "# This way the db is lock only when I'm actually querying it\n",
    "def run_query(q):\n",
    "    with sqlite3.connect('chinook.db') as conn:\n",
    "        return pd.read_sql(q,conn)"
   ]
  },
  {
   "cell_type": "code",
   "execution_count": 3,
   "metadata": {},
   "outputs": [],
   "source": [
    "# Define a function that takes a SQL command as an argument and executes it\n",
    "def run_command(c):\n",
    "    with sqlite3.connect('chinook.db') as conn:\n",
    "        conn.isolation_level = None\n",
    "        conn.execute(c)"
   ]
  },
  {
   "cell_type": "code",
   "execution_count": 4,
   "metadata": {},
   "outputs": [],
   "source": [
    "# Define a function that returns a list of all tables and views in the database\n",
    "def show_tables():\n",
    "    q= ('''\n",
    "             SELECT\n",
    "                 name,\n",
    "                 type\n",
    "             FROM sqlite_master\n",
    "             WHERE type in (\"table\",\"view\")\n",
    "    ''')\n",
    "    return run_query(q)"
   ]
  },
  {
   "cell_type": "code",
   "execution_count": 5,
   "metadata": {},
   "outputs": [
    {
     "data": {
      "text/html": [
       "<div>\n",
       "<style scoped>\n",
       "    .dataframe tbody tr th:only-of-type {\n",
       "        vertical-align: middle;\n",
       "    }\n",
       "\n",
       "    .dataframe tbody tr th {\n",
       "        vertical-align: top;\n",
       "    }\n",
       "\n",
       "    .dataframe thead th {\n",
       "        text-align: right;\n",
       "    }\n",
       "</style>\n",
       "<table border=\"1\" class=\"dataframe\">\n",
       "  <thead>\n",
       "    <tr style=\"text-align: right;\">\n",
       "      <th></th>\n",
       "      <th>name</th>\n",
       "      <th>type</th>\n",
       "    </tr>\n",
       "  </thead>\n",
       "  <tbody>\n",
       "    <tr>\n",
       "      <th>0</th>\n",
       "      <td>album</td>\n",
       "      <td>table</td>\n",
       "    </tr>\n",
       "    <tr>\n",
       "      <th>1</th>\n",
       "      <td>artist</td>\n",
       "      <td>table</td>\n",
       "    </tr>\n",
       "    <tr>\n",
       "      <th>2</th>\n",
       "      <td>customer</td>\n",
       "      <td>table</td>\n",
       "    </tr>\n",
       "    <tr>\n",
       "      <th>3</th>\n",
       "      <td>employee</td>\n",
       "      <td>table</td>\n",
       "    </tr>\n",
       "    <tr>\n",
       "      <th>4</th>\n",
       "      <td>genre</td>\n",
       "      <td>table</td>\n",
       "    </tr>\n",
       "    <tr>\n",
       "      <th>5</th>\n",
       "      <td>invoice</td>\n",
       "      <td>table</td>\n",
       "    </tr>\n",
       "    <tr>\n",
       "      <th>6</th>\n",
       "      <td>invoice_line</td>\n",
       "      <td>table</td>\n",
       "    </tr>\n",
       "    <tr>\n",
       "      <th>7</th>\n",
       "      <td>media_type</td>\n",
       "      <td>table</td>\n",
       "    </tr>\n",
       "    <tr>\n",
       "      <th>8</th>\n",
       "      <td>playlist</td>\n",
       "      <td>table</td>\n",
       "    </tr>\n",
       "    <tr>\n",
       "      <th>9</th>\n",
       "      <td>playlist_track</td>\n",
       "      <td>table</td>\n",
       "    </tr>\n",
       "    <tr>\n",
       "      <th>10</th>\n",
       "      <td>track</td>\n",
       "      <td>table</td>\n",
       "    </tr>\n",
       "    <tr>\n",
       "      <th>11</th>\n",
       "      <td>country_statistics</td>\n",
       "      <td>view</td>\n",
       "    </tr>\n",
       "  </tbody>\n",
       "</table>\n",
       "</div>"
      ],
      "text/plain": [
       "                  name   type\n",
       "0                album  table\n",
       "1               artist  table\n",
       "2             customer  table\n",
       "3             employee  table\n",
       "4                genre  table\n",
       "5              invoice  table\n",
       "6         invoice_line  table\n",
       "7           media_type  table\n",
       "8             playlist  table\n",
       "9       playlist_track  table\n",
       "10               track  table\n",
       "11  country_statistics   view"
      ]
     },
     "execution_count": 5,
     "metadata": {},
     "output_type": "execute_result"
    }
   ],
   "source": [
    "show_tables()"
   ]
  },
  {
   "cell_type": "markdown",
   "metadata": {},
   "source": [
    "## 1st task: decide music to buy for the store\n",
    "\n",
    "I'm presented with this business problem: I have to choose three new artist within a list of four. I know the name of the artists and the genre of their music, and I know i want to target the USA market."
   ]
  },
  {
   "cell_type": "code",
   "execution_count": 6,
   "metadata": {},
   "outputs": [],
   "source": [
    "#Write a query that returns each genre, with the number of tracks sold in aboslute numbers and in percentages\n",
    "q = '''\n",
    "WITH\n",
    "track_sold AS\n",
    "(\n",
    "    SELECT \n",
    "        t.track_id,\n",
    "        t.name track_title,\n",
    "        COUNT(t.track_id) track_sold,\n",
    "        g.genre_id\n",
    "    FROM track t\n",
    "    INNER JOIN invoice_line il ON il.track_id = t.track_id\n",
    "    INNER JOIN invoice i ON i.invoice_id = il.invoice_id\n",
    "    INNER JOIN genre g ON g.genre_id = t.genre_id\n",
    "    INNER JOIN customer c ON c.customer_id = i.customer_id\n",
    "    WHERE c.country = \"USA\"\n",
    "    GROUP BY 1\n",
    "    ORDER BY 1 ASC\n",
    "),\n",
    "\n",
    "track_sold_by_genre AS\n",
    "(\n",
    "    SELECT\n",
    "        g.name genre,\n",
    "        SUM(ts.track_sold) track_sold\n",
    "    FROM track_sold ts\n",
    "    INNER JOIN genre g ON g.genre_id = ts.genre_id\n",
    "    GROUP BY 1\n",
    "    ORDER BY 1 ASC\n",
    ")\n",
    "\n",
    "SELECT \n",
    "    tsg.genre,\n",
    "    tsg.track_sold,\n",
    "    (tsg.track_sold / \n",
    "    (SELECT\n",
    "        CAST(SUM(ts.track_sold) AS float) total\n",
    "    FROM track_sold ts)) track_sold_perc\n",
    "FROM track_sold_by_genre tsg\n",
    "ORDER BY 2 DESC\n",
    "\n",
    "\n",
    "'''\n",
    "    \n",
    "genre_sales_USA = run_query(q)    "
   ]
  },
  {
   "cell_type": "code",
   "execution_count": 7,
   "metadata": {},
   "outputs": [
    {
     "data": {
      "text/html": [
       "<div>\n",
       "<style scoped>\n",
       "    .dataframe tbody tr th:only-of-type {\n",
       "        vertical-align: middle;\n",
       "    }\n",
       "\n",
       "    .dataframe tbody tr th {\n",
       "        vertical-align: top;\n",
       "    }\n",
       "\n",
       "    .dataframe thead th {\n",
       "        text-align: right;\n",
       "    }\n",
       "</style>\n",
       "<table border=\"1\" class=\"dataframe\">\n",
       "  <thead>\n",
       "    <tr style=\"text-align: right;\">\n",
       "      <th></th>\n",
       "      <th>genre</th>\n",
       "      <th>track_sold</th>\n",
       "      <th>track_sold_perc</th>\n",
       "    </tr>\n",
       "  </thead>\n",
       "  <tbody>\n",
       "    <tr>\n",
       "      <th>0</th>\n",
       "      <td>Rock</td>\n",
       "      <td>561</td>\n",
       "      <td>0.533777</td>\n",
       "    </tr>\n",
       "    <tr>\n",
       "      <th>1</th>\n",
       "      <td>Alternative &amp; Punk</td>\n",
       "      <td>130</td>\n",
       "      <td>0.123692</td>\n",
       "    </tr>\n",
       "    <tr>\n",
       "      <th>2</th>\n",
       "      <td>Metal</td>\n",
       "      <td>124</td>\n",
       "      <td>0.117983</td>\n",
       "    </tr>\n",
       "    <tr>\n",
       "      <th>3</th>\n",
       "      <td>R&amp;B/Soul</td>\n",
       "      <td>53</td>\n",
       "      <td>0.050428</td>\n",
       "    </tr>\n",
       "    <tr>\n",
       "      <th>4</th>\n",
       "      <td>Blues</td>\n",
       "      <td>36</td>\n",
       "      <td>0.034253</td>\n",
       "    </tr>\n",
       "    <tr>\n",
       "      <th>5</th>\n",
       "      <td>Alternative</td>\n",
       "      <td>35</td>\n",
       "      <td>0.033302</td>\n",
       "    </tr>\n",
       "    <tr>\n",
       "      <th>6</th>\n",
       "      <td>Latin</td>\n",
       "      <td>22</td>\n",
       "      <td>0.020932</td>\n",
       "    </tr>\n",
       "    <tr>\n",
       "      <th>7</th>\n",
       "      <td>Pop</td>\n",
       "      <td>22</td>\n",
       "      <td>0.020932</td>\n",
       "    </tr>\n",
       "    <tr>\n",
       "      <th>8</th>\n",
       "      <td>Hip Hop/Rap</td>\n",
       "      <td>20</td>\n",
       "      <td>0.019029</td>\n",
       "    </tr>\n",
       "    <tr>\n",
       "      <th>9</th>\n",
       "      <td>Jazz</td>\n",
       "      <td>14</td>\n",
       "      <td>0.013321</td>\n",
       "    </tr>\n",
       "    <tr>\n",
       "      <th>10</th>\n",
       "      <td>Easy Listening</td>\n",
       "      <td>13</td>\n",
       "      <td>0.012369</td>\n",
       "    </tr>\n",
       "    <tr>\n",
       "      <th>11</th>\n",
       "      <td>Reggae</td>\n",
       "      <td>6</td>\n",
       "      <td>0.005709</td>\n",
       "    </tr>\n",
       "    <tr>\n",
       "      <th>12</th>\n",
       "      <td>Electronica/Dance</td>\n",
       "      <td>5</td>\n",
       "      <td>0.004757</td>\n",
       "    </tr>\n",
       "    <tr>\n",
       "      <th>13</th>\n",
       "      <td>Classical</td>\n",
       "      <td>4</td>\n",
       "      <td>0.003806</td>\n",
       "    </tr>\n",
       "    <tr>\n",
       "      <th>14</th>\n",
       "      <td>Heavy Metal</td>\n",
       "      <td>3</td>\n",
       "      <td>0.002854</td>\n",
       "    </tr>\n",
       "    <tr>\n",
       "      <th>15</th>\n",
       "      <td>Soundtrack</td>\n",
       "      <td>2</td>\n",
       "      <td>0.001903</td>\n",
       "    </tr>\n",
       "    <tr>\n",
       "      <th>16</th>\n",
       "      <td>TV Shows</td>\n",
       "      <td>1</td>\n",
       "      <td>0.000951</td>\n",
       "    </tr>\n",
       "  </tbody>\n",
       "</table>\n",
       "</div>"
      ],
      "text/plain": [
       "                 genre  track_sold  track_sold_perc\n",
       "0                 Rock         561         0.533777\n",
       "1   Alternative & Punk         130         0.123692\n",
       "2                Metal         124         0.117983\n",
       "3             R&B/Soul          53         0.050428\n",
       "4                Blues          36         0.034253\n",
       "5          Alternative          35         0.033302\n",
       "6                Latin          22         0.020932\n",
       "7                  Pop          22         0.020932\n",
       "8          Hip Hop/Rap          20         0.019029\n",
       "9                 Jazz          14         0.013321\n",
       "10      Easy Listening          13         0.012369\n",
       "11              Reggae           6         0.005709\n",
       "12   Electronica/Dance           5         0.004757\n",
       "13           Classical           4         0.003806\n",
       "14         Heavy Metal           3         0.002854\n",
       "15          Soundtrack           2         0.001903\n",
       "16            TV Shows           1         0.000951"
      ]
     },
     "execution_count": 7,
     "metadata": {},
     "output_type": "execute_result"
    }
   ],
   "source": [
    "genre_sales_USA"
   ]
  },
  {
   "cell_type": "code",
   "execution_count": 8,
   "metadata": {},
   "outputs": [],
   "source": [
    "# Create a plot to show the data\n",
    "genre_sales_USA_plot = genre_sales_USA.sort_values(by = 'track_sold').set_index('genre',drop=True)"
   ]
  },
  {
   "cell_type": "code",
   "execution_count": 9,
   "metadata": {},
   "outputs": [
    {
     "data": {
      "text/plain": [
       "Text(0,0.5,'Genre')"
      ]
     },
     "execution_count": 9,
     "metadata": {},
     "output_type": "execute_result"
    },
    {
     "data": {
      "image/png": "[encoded data removed]",
      "text/plain": [
       "<matplotlib.figure.Figure at 0x1a3a6d64710>"
      ]
     },
     "metadata": {
      "needs_background": "light"
     },
     "output_type": "display_data"
    }
   ],
   "source": [
    "ax = genre_sales_USA_plot.plot.barh(y='track_sold', title='Most popular genre in USA', legend=None)\n",
    "ax.set_xlabel('Track Sold')\n",
    "ax.set_ylabel('Genre')"
   ]
  },
  {
   "cell_type": "markdown",
   "metadata": {},
   "source": [
    "This are the Artists I can choose from:\n",
    "\n",
    "<table>\n",
    "<thead>\n",
    "    <th>Artist Name</th>\n",
    "    <th>Genre</th>\n",
    "    <th>Position</th>\n",
    "</thead>\n",
    "<tbody>\n",
    "    <tr>\n",
    "        <td>Regal</td>\n",
    "        <td>Hip-Hop</td>\n",
    "        <td>9</td>\n",
    "    </tr>\n",
    "    <tr>\n",
    "        <td>Red Tone</td>\n",
    "        <td>Punk</td>\n",
    "        <td>1</td>\n",
    "    </tr>\n",
    "    <tr>\n",
    "        <td>Meteor and the Girls</td>\n",
    "        <td>Pop</td>\n",
    "        <td>7</td>\n",
    "    </tr>\n",
    "    <tr>\n",
    "        <td>Slim Jim Bites</td>\n",
    "        <td>Blues</td>\n",
    "        <td>4</td>\n",
    "    </tr>\n",
    "</tbody>\n",
    "</table>\n",
    "\n",
    "From this analysis I can then assume that I do not want to buy the Album by Regal"
   ]
  },
  {
   "cell_type": "markdown",
   "metadata": {},
   "source": [
    "## 2nd task: evaluate the Sales Support Agent performance\n",
    "\n",
    "My task is to analyze the purchases of customers belonging to each employee to see if any sales support agent is performing either better or worse than the others\n"
   ]
  },
  {
   "cell_type": "code",
   "execution_count": 10,
   "metadata": {},
   "outputs": [],
   "source": [
    "q = '''\n",
    "WITH\n",
    "customer_expenses AS\n",
    "(\n",
    "    SELECT\n",
    "        c.customer_id,\n",
    "        c.first_name || \" \" || c.last_name customer_name,\n",
    "        c.country customer_country,\n",
    "        c.support_rep_id support_id,\n",
    "        SUM(i.total) customer_expenses\n",
    "    FROM customer c \n",
    "    INNER JOIN invoice i ON i.customer_id = c.customer_id\n",
    "    GROUP BY 1\n",
    "    ORDER BY 1\n",
    "),\n",
    "\n",
    "managers AS\n",
    "(\n",
    "    SELECT\n",
    "        e.employee_id,\n",
    "        e.first_name || \" \" || e.last_name employee_name,\n",
    "        e2.first_name || \" \" || e2.last_name manager_name,\n",
    "        e2.title manager_title\n",
    "    from employee e\n",
    "    INNER JOIN employee e2 ON e2.employee_id = e.reports_to        \n",
    ")\n",
    "\n",
    "SELECT\n",
    "    e.employee_id,\n",
    "    e.first_name || \" \" || e.last_name employee_name,\n",
    "    e.country employee_country,\n",
    "    e.hire_date,\n",
    "    e.title,\n",
    "    m.manager_name,\n",
    "    m.manager_title,\n",
    "    SUM(ce.customer_expenses) employee_earnings\n",
    "\n",
    "FROM employee e\n",
    "INNER JOIN customer_expenses ce ON ce.support_id = e.employee_id\n",
    "INNER JOIN managers m ON m.employee_id = e.employee_id\n",
    "GROUP BY 1\n",
    "ORDER BY employee_earnings DESC\n",
    "\n",
    "'''"
   ]
  },
  {
   "cell_type": "code",
   "execution_count": 11,
   "metadata": {},
   "outputs": [
    {
     "data": {
      "text/html": [
       "<div>\n",
       "<style scoped>\n",
       "    .dataframe tbody tr th:only-of-type {\n",
       "        vertical-align: middle;\n",
       "    }\n",
       "\n",
       "    .dataframe tbody tr th {\n",
       "        vertical-align: top;\n",
       "    }\n",
       "\n",
       "    .dataframe thead th {\n",
       "        text-align: right;\n",
       "    }\n",
       "</style>\n",
       "<table border=\"1\" class=\"dataframe\">\n",
       "  <thead>\n",
       "    <tr style=\"text-align: right;\">\n",
       "      <th></th>\n",
       "      <th>employee_id</th>\n",
       "      <th>employee_name</th>\n",
       "      <th>employee_country</th>\n",
       "      <th>hire_date</th>\n",
       "      <th>title</th>\n",
       "      <th>manager_name</th>\n",
       "      <th>manager_title</th>\n",
       "      <th>employee_earnings</th>\n",
       "    </tr>\n",
       "  </thead>\n",
       "  <tbody>\n",
       "    <tr>\n",
       "      <th>0</th>\n",
       "      <td>3</td>\n",
       "      <td>Jane Peacock</td>\n",
       "      <td>Canada</td>\n",
       "      <td>2017-04-01 00:00:00</td>\n",
       "      <td>Sales Support Agent</td>\n",
       "      <td>Nancy Edwards</td>\n",
       "      <td>Sales Manager</td>\n",
       "      <td>1731.51</td>\n",
       "    </tr>\n",
       "    <tr>\n",
       "      <th>1</th>\n",
       "      <td>4</td>\n",
       "      <td>Margaret Park</td>\n",
       "      <td>Canada</td>\n",
       "      <td>2017-05-03 00:00:00</td>\n",
       "      <td>Sales Support Agent</td>\n",
       "      <td>Nancy Edwards</td>\n",
       "      <td>Sales Manager</td>\n",
       "      <td>1584.00</td>\n",
       "    </tr>\n",
       "    <tr>\n",
       "      <th>2</th>\n",
       "      <td>5</td>\n",
       "      <td>Steve Johnson</td>\n",
       "      <td>Canada</td>\n",
       "      <td>2017-10-17 00:00:00</td>\n",
       "      <td>Sales Support Agent</td>\n",
       "      <td>Nancy Edwards</td>\n",
       "      <td>Sales Manager</td>\n",
       "      <td>1393.92</td>\n",
       "    </tr>\n",
       "  </tbody>\n",
       "</table>\n",
       "</div>"
      ],
      "text/plain": [
       "   employee_id  employee_name employee_country            hire_date  \\\n",
       "0            3   Jane Peacock           Canada  2017-04-01 00:00:00   \n",
       "1            4  Margaret Park           Canada  2017-05-03 00:00:00   \n",
       "2            5  Steve Johnson           Canada  2017-10-17 00:00:00   \n",
       "\n",
       "                 title   manager_name  manager_title  employee_earnings  \n",
       "0  Sales Support Agent  Nancy Edwards  Sales Manager            1731.51  \n",
       "1  Sales Support Agent  Nancy Edwards  Sales Manager            1584.00  \n",
       "2  Sales Support Agent  Nancy Edwards  Sales Manager            1393.92  "
      ]
     },
     "execution_count": 11,
     "metadata": {},
     "output_type": "execute_result"
    }
   ],
   "source": [
    "total_earnings = run_query(q)\n",
    "total_earnings"
   ]
  },
  {
   "cell_type": "code",
   "execution_count": 12,
   "metadata": {},
   "outputs": [
    {
     "data": {
      "text/plain": [
       "Text(0.5,1,'Employee performances')"
      ]
     },
     "execution_count": 12,
     "metadata": {},
     "output_type": "execute_result"
    },
    {
     "data": {
      "image/png": "[encoded data removed]",
      "text/plain": [
       "<matplotlib.figure.Figure at 0x1a3a6d64390>"
      ]
     },
     "metadata": {
      "needs_background": "light"
     },
     "output_type": "display_data"
    }
   ],
   "source": [
    "# Plotting the result\n",
    "ax = total_earnings.sort_values(by='employee_earnings').set_index('employee_name').plot.barh(y='employee_earnings',legend=None)\n",
    "ax.set_xlabel('Earnings [$]')\n",
    "ax.set_ylabel('')\n",
    "ax.set_title('Employee performances')"
   ]
  },
  {
   "cell_type": "markdown",
   "metadata": {},
   "source": [
    "From this view it seems that more experienced employee (the one hired before) performs better than the ones with less experienced.\n",
    "\n",
    "All employees are from the same country (Canada) and report to the same manager (Nancy Edwards) so it appears to me that hire date is the only relevant parameter in this evaluation apart from the employee ability."
   ]
  },
  {
   "cell_type": "markdown",
   "metadata": {},
   "source": [
    "## 3rd task: analyze sales data for customers from each different country\n",
    "\n",
    "For each country (in the customer table) I'm instructed to calculate:\n",
    "+ Total number of customers\n",
    "+ Total value of sales\n",
    "+ Average value of sales per customer\n",
    "+ Average order value\n",
    "\n",
    "Specific instructions are that countries with only one customer has to be grouped under the \"Other\" category and that this group should always be at the bottom of the results."
   ]
  },
  {
   "cell_type": "code",
   "execution_count": 13,
   "metadata": {},
   "outputs": [],
   "source": [
    "run_command('DROP VIEW country_statistics')\n",
    "\n",
    "c = '''\n",
    "    CREATE VIEW country_statistics AS\n",
    "    \n",
    "    WITH \n",
    "    country_or_other AS\n",
    "    (\n",
    "    SELECT \n",
    "        CASE \n",
    "            WHEN (\n",
    "                SELECT\n",
    "                    COUNT(*)\n",
    "                FROM customer\n",
    "                WHERE country = c.country\n",
    "            ) == 1 THEN 'Other'\n",
    "            ELSE c.country\n",
    "        END as country,\n",
    "        c.*\n",
    "    FROM customer c\n",
    "    ),\n",
    "    \n",
    "    country_aggregates AS\n",
    "    (\n",
    "        SELECT \n",
    "            c.country,\n",
    "            COUNT(distinct c.customer_id) customers_number,\n",
    "            SUM(i.total) total_sales,\n",
    "            COUNT(distinct i.invoice_id) orders_number\n",
    "        FROM \n",
    "        country_or_other c\n",
    "        INNER JOIN invoice i ON i.customer_id = c.customer_id\n",
    "        GROUP BY 1\n",
    "    )\n",
    "        \n",
    "    SELECT \n",
    "        ca.country,\n",
    "        ca.customers_number,\n",
    "        ca.total_sales,\n",
    "        ca.total_sales / CAST(ca.customers_number AS float) sales_avg,\n",
    "        ca.total_sales / CAST(ca.orders_number AS float) orders_avg\n",
    "    FROM country_aggregates ca\n",
    "'''\n",
    "run_command(c)"
   ]
  },
  {
   "cell_type": "code",
   "execution_count": 14,
   "metadata": {},
   "outputs": [
    {
     "data": {
      "text/html": [
       "<div>\n",
       "<style scoped>\n",
       "    .dataframe tbody tr th:only-of-type {\n",
       "        vertical-align: middle;\n",
       "    }\n",
       "\n",
       "    .dataframe tbody tr th {\n",
       "        vertical-align: top;\n",
       "    }\n",
       "\n",
       "    .dataframe thead th {\n",
       "        text-align: right;\n",
       "    }\n",
       "</style>\n",
       "<table border=\"1\" class=\"dataframe\">\n",
       "  <thead>\n",
       "    <tr style=\"text-align: right;\">\n",
       "      <th></th>\n",
       "      <th>country</th>\n",
       "      <th>customers_number</th>\n",
       "      <th>total_sales</th>\n",
       "      <th>orders_avg</th>\n",
       "      <th>customer_avg</th>\n",
       "    </tr>\n",
       "  </thead>\n",
       "  <tbody>\n",
       "    <tr>\n",
       "      <th>0</th>\n",
       "      <td>USA</td>\n",
       "      <td>13</td>\n",
       "      <td>1040.49</td>\n",
       "      <td>7.942672</td>\n",
       "      <td>80.037692</td>\n",
       "    </tr>\n",
       "    <tr>\n",
       "      <th>1</th>\n",
       "      <td>Canada</td>\n",
       "      <td>8</td>\n",
       "      <td>535.59</td>\n",
       "      <td>7.047237</td>\n",
       "      <td>66.948750</td>\n",
       "    </tr>\n",
       "    <tr>\n",
       "      <th>2</th>\n",
       "      <td>Brazil</td>\n",
       "      <td>5</td>\n",
       "      <td>427.68</td>\n",
       "      <td>7.011148</td>\n",
       "      <td>85.536000</td>\n",
       "    </tr>\n",
       "    <tr>\n",
       "      <th>3</th>\n",
       "      <td>France</td>\n",
       "      <td>5</td>\n",
       "      <td>389.07</td>\n",
       "      <td>7.781400</td>\n",
       "      <td>77.814000</td>\n",
       "    </tr>\n",
       "    <tr>\n",
       "      <th>4</th>\n",
       "      <td>Germany</td>\n",
       "      <td>4</td>\n",
       "      <td>334.62</td>\n",
       "      <td>8.161463</td>\n",
       "      <td>83.655000</td>\n",
       "    </tr>\n",
       "    <tr>\n",
       "      <th>5</th>\n",
       "      <td>Czech Republic</td>\n",
       "      <td>2</td>\n",
       "      <td>273.24</td>\n",
       "      <td>9.108000</td>\n",
       "      <td>136.620000</td>\n",
       "    </tr>\n",
       "    <tr>\n",
       "      <th>6</th>\n",
       "      <td>United Kingdom</td>\n",
       "      <td>3</td>\n",
       "      <td>245.52</td>\n",
       "      <td>8.768571</td>\n",
       "      <td>81.840000</td>\n",
       "    </tr>\n",
       "    <tr>\n",
       "      <th>7</th>\n",
       "      <td>Portugal</td>\n",
       "      <td>2</td>\n",
       "      <td>185.13</td>\n",
       "      <td>6.383793</td>\n",
       "      <td>92.565000</td>\n",
       "    </tr>\n",
       "    <tr>\n",
       "      <th>8</th>\n",
       "      <td>India</td>\n",
       "      <td>2</td>\n",
       "      <td>183.15</td>\n",
       "      <td>8.721429</td>\n",
       "      <td>91.575000</td>\n",
       "    </tr>\n",
       "    <tr>\n",
       "      <th>9</th>\n",
       "      <td>Other</td>\n",
       "      <td>15</td>\n",
       "      <td>1094.94</td>\n",
       "      <td>7.448571</td>\n",
       "      <td>72.996000</td>\n",
       "    </tr>\n",
       "  </tbody>\n",
       "</table>\n",
       "</div>"
      ],
      "text/plain": [
       "          country  customers_number  total_sales  orders_avg  customer_avg\n",
       "0             USA                13      1040.49    7.942672     80.037692\n",
       "1          Canada                 8       535.59    7.047237     66.948750\n",
       "2          Brazil                 5       427.68    7.011148     85.536000\n",
       "3          France                 5       389.07    7.781400     77.814000\n",
       "4         Germany                 4       334.62    8.161463     83.655000\n",
       "5  Czech Republic                 2       273.24    9.108000    136.620000\n",
       "6  United Kingdom                 3       245.52    8.768571     81.840000\n",
       "7        Portugal                 2       185.13    6.383793     92.565000\n",
       "8           India                 2       183.15    8.721429     91.575000\n",
       "9           Other                15      1094.94    7.448571     72.996000"
      ]
     },
     "execution_count": 14,
     "metadata": {},
     "output_type": "execute_result"
    }
   ],
   "source": [
    "q = '''\n",
    "SELECT \n",
    "    country,\n",
    "    customers_number,\n",
    "    total_sales,\n",
    "    orders_avg,\n",
    "    sales_avg customer_avg\n",
    "FROM (\n",
    "    SELECT \n",
    "    cs.*,\n",
    "    CASE\n",
    "        WHEN(cs.country) = 'Other' THEN 1\n",
    "        ELSE 0\n",
    "    END as sort\n",
    "    FROM country_statistics as cs\n",
    "    ORDER BY sort ASC, cs.total_sales DESC \n",
    ") \n",
    "'''\n",
    "\n",
    "results = run_query(q)\n",
    "results"
   ]
  },
  {
   "cell_type": "markdown",
   "metadata": {},
   "source": [
    "## 4th task: create a series of visualization to communicate the findings and make recommendations on which country may have potential for growth\n",
    "\n",
    "I'll begin with some basic plot: pie chart and bar chart for the number of customers and the total sales"
   ]
  },
  {
   "cell_type": "code",
   "execution_count": 15,
   "metadata": {},
   "outputs": [
    {
     "data": {
      "image/png": "[encoded data removed]",
      "text/plain": [
       "<matplotlib.figure.Figure at 0x1a3a7166748>"
      ]
     },
     "metadata": {
      "needs_background": "light"
     },
     "output_type": "display_data"
    }
   ],
   "source": [
    "colors = [plt.cm.Accent(i) for i in np.linspace(0, 1, results.shape[0])]\n",
    "\n",
    "fig, axes = plt.subplots(1,2, figsize=(12,5))\n",
    "ax1, ax2 = axes.flatten()\n",
    "\n",
    "ax1 = results.set_index('country').plot.barh(ax=ax1,y='customers_number',title='Number of customers per country',legend=None, color=colors)\n",
    "ax1.set_ylabel('')\n",
    "sns.set_style('white')\n",
    "ax1.grid(False)\n",
    "ax1.spines['right'].set_visible(False)\n",
    "ax1.spines['top'].set_visible(False)\n",
    "\n",
    "ax2 = results.set_index('country').plot.barh(ax=ax2,y='total_sales',title='Total sales volume per country', legend=None, color=colors)\n",
    "ax2.set_ylabel('')\n",
    "sns.set_style('white')\n",
    "ax2.grid(False)\n",
    "ax2.spines['right'].set_visible(False)\n",
    "ax2.spines['top'].set_visible(False)"
   ]
  },
  {
   "cell_type": "code",
   "execution_count": 16,
   "metadata": {},
   "outputs": [
    {
     "data": {
      "text/plain": [
       "(-1.105832845994768,\n",
       " 1.1007209708967893,\n",
       " -1.1032665693876786,\n",
       " 1.1001556414601723)"
      ]
     },
     "execution_count": 16,
     "metadata": {},
     "output_type": "execute_result"
    },
    {
     "data": {
      "image/png": "[encoded data removed]",
      "text/plain": [
       "<matplotlib.figure.Figure at 0x1a3a7225470>"
      ]
     },
     "metadata": {},
     "output_type": "display_data"
    }
   ],
   "source": [
    "fig, axes = plt.subplots(1,2, figsize=(12,5))\n",
    "ax1, ax2 = axes.flatten()\n",
    "\n",
    "\n",
    "ax1 = results.set_index('country').plot.pie(ax=ax1,y='customers_number',title='Number of customers per country',legend=None,startangle=90, colormap=plt.cm.Accent)\n",
    "ax1.set_ylabel('')\n",
    "sns.set_style('white')\n",
    "ax1.grid(False)\n",
    "ax1.spines['right'].set_visible(False)\n",
    "ax1.spines['top'].set_visible(False)\n",
    "ax1.axis('equal')  # Equal aspect ratio ensures that pie is drawn as a circle.\n",
    "\n",
    "ax2 = results.set_index('country').plot.pie(ax=ax2,y='total_sales',title='Total sales volume per country',legend=None,startangle=90, colormap=plt.cm.Accent)\n",
    "ax2.set_ylabel('')\n",
    "sns.set_style('white')\n",
    "ax2.grid(False)\n",
    "ax2.spines['right'].set_visible(False)\n",
    "ax2.spines['top'].set_visible(False)\n",
    "ax2.axis('equal')  # Equal aspect ratio ensures that pie is drawn as a circle.\n",
    "\n"
   ]
  },
  {
   "cell_type": "markdown",
   "metadata": {},
   "source": [
    "There is a clear correlation between the number of customers per country and the total volume per country. \n",
    "To better see this, let's look at the country breakdown as percenteage\n"
   ]
  },
  {
   "cell_type": "code",
   "execution_count": 17,
   "metadata": {},
   "outputs": [
    {
     "data": {
      "text/plain": [
       "Text(0.5,0,'')"
      ]
     },
     "execution_count": 17,
     "metadata": {},
     "output_type": "execute_result"
    },
    {
     "data": {
      "image/png": "[encoded data removed]",
      "text/plain": [
       "<matplotlib.figure.Figure at 0x1a3a715c470>"
      ]
     },
     "metadata": {},
     "output_type": "display_data"
    }
   ],
   "source": [
    "cols = ['country','customers_number','total_sales']\n",
    "num_cols = ['customers_number','total_sales']\n",
    "df_plot = results.loc[:,cols]\n",
    "for c in num_cols:\n",
    "    df_plot.loc[:,c] /= df_plot.loc[:,c].sum() / 100\n",
    "\n",
    "ax = df_plot.set_index('country').plot.bar()\n",
    "ax.set_xlabel('')"
   ]
  },
  {
   "cell_type": "markdown",
   "metadata": {},
   "source": [
    "Countries with potential for growth are the ones with a low number of customers but high sales. I want to look for countries with an average order higher than the mean average order\n",
    "\n",
    "Probably I'll have to choose from Czech Republic, United Kingdom, Portugal, India\""
   ]
  },
  {
   "cell_type": "code",
   "execution_count": 18,
   "metadata": {},
   "outputs": [
    {
     "data": {
      "text/plain": [
       "<matplotlib.lines.Line2D at 0x1a3a3b2d828>"
      ]
     },
     "execution_count": 18,
     "metadata": {},
     "output_type": "execute_result"
    },
    {
     "data": {
      "image/png": "[encoded data removed]",
      "text/plain": [
       "<matplotlib.figure.Figure at 0x1a3a73f9a90>"
      ]
     },
     "metadata": {},
     "output_type": "display_data"
    }
   ],
   "source": [
    "cols = ['country','orders_avg']\n",
    "\n",
    "df_plot = results[cols].copy().set_index('country')\n",
    "\n",
    "df_plot = (df_plot /df_plot.mean() - 1) * 100\n",
    "\n",
    "ax1 = df_plot.plot.bar(y='orders_avg', color=colors, legend=None)\n",
    "ax1.set_xlabel('')\n",
    "sns.set_style('white')\n",
    "ax1.grid(False)\n",
    "ax1.spines['right'].set_visible(False)\n",
    "ax1.spines['top'].set_visible(False)\n",
    "ax1.spines['bottom'].set_visible(False)\n",
    "ax1.axhline(0,color='k')\n",
    "\n",
    "\n"
   ]
  },
  {
   "cell_type": "markdown",
   "metadata": {},
   "source": [
    "It's now clear that Czech Republic, United Kindgom and India are good candidates for marketing campaigns, while portugal is not."
   ]
  },
  {
   "cell_type": "markdown",
   "metadata": {},
   "source": [
    "## 5th task: categorize each invoice as either an album purchase or not\n",
    "\n",
    "I have to calculate the following statistics:\n",
    "+ Number of Invoices\n",
    "+ Percentage of invoices"
   ]
  },
  {
   "cell_type": "code",
   "execution_count": 19,
   "metadata": {},
   "outputs": [
    {
     "data": {
      "text/html": [
       "<div>\n",
       "<style scoped>\n",
       "    .dataframe tbody tr th:only-of-type {\n",
       "        vertical-align: middle;\n",
       "    }\n",
       "\n",
       "    .dataframe tbody tr th {\n",
       "        vertical-align: top;\n",
       "    }\n",
       "\n",
       "    .dataframe thead th {\n",
       "        text-align: right;\n",
       "    }\n",
       "</style>\n",
       "<table border=\"1\" class=\"dataframe\">\n",
       "  <thead>\n",
       "    <tr style=\"text-align: right;\">\n",
       "      <th></th>\n",
       "      <th>full_album</th>\n",
       "      <th>invoices</th>\n",
       "      <th>percent</th>\n",
       "    </tr>\n",
       "  </thead>\n",
       "  <tbody>\n",
       "    <tr>\n",
       "      <th>0</th>\n",
       "      <td>no</td>\n",
       "      <td>500</td>\n",
       "      <td>0.814332</td>\n",
       "    </tr>\n",
       "    <tr>\n",
       "      <th>1</th>\n",
       "      <td>yes</td>\n",
       "      <td>114</td>\n",
       "      <td>0.185668</td>\n",
       "    </tr>\n",
       "  </tbody>\n",
       "</table>\n",
       "</div>"
      ],
      "text/plain": [
       "  full_album  invoices   percent\n",
       "0         no       500  0.814332\n",
       "1        yes       114  0.185668"
      ]
     },
     "execution_count": 19,
     "metadata": {},
     "output_type": "execute_result"
    }
   ],
   "source": [
    "q=('''\n",
    "WITH first_tracks AS\n",
    "(\n",
    "SELECT\n",
    "    i.invoice_id,\n",
    "    t.track_id,\n",
    "    a.album_id\n",
    "FROM\n",
    "    invoice i \n",
    "    INNER JOIN invoice_line il ON il.invoice_id = i.invoice_id\n",
    "    INNER JOIN track t ON t.track_id = il.track_id\n",
    "    INNER JOIN album a ON a.album_id = t.album_id\n",
    "GROUP BY 1  \n",
    "),\n",
    "\n",
    "full_album AS\n",
    "(\n",
    "SELECT\n",
    "    ft.invoice_id,\n",
    "    CASE \n",
    "        WHEN(\n",
    "        -- tracks from the invoice are the same as tracks from the album\n",
    "        \n",
    "            (   --Select invoice tracks\n",
    "            SELECT\n",
    "                --i.invoice_id,\n",
    "                t.track_id\n",
    "            FROM\n",
    "                invoice i\n",
    "                INNER JOIN invoice_line il ON il.invoice_id = i.invoice_id\n",
    "                INNER JOIN track t ON t.track_id = il.track_id\n",
    "            WHERE\n",
    "                i.invoice_id = ft.invoice_id\n",
    "                \n",
    "            EXCEPT\n",
    "            \n",
    "            --Select album tracks\n",
    "            --Select a track for which the album is the same of the one of the first_track\n",
    "            SELECT \n",
    "                t.track_id\n",
    "            FROM track t\n",
    "            WHERE t.album_id = (\n",
    "                SELECT\n",
    "                    t2.album_id\n",
    "                FROM track t2 \n",
    "                WHERE t2.track_id = ft.track_id\n",
    "            )\n",
    "            ) IS NULL\n",
    "        \n",
    "        AND\n",
    "        \n",
    "            (\n",
    "            --Select album tracks\n",
    "            --Select a track for which the album is the same of the one of the first_track\n",
    "            SELECT \n",
    "                t.track_id\n",
    "            FROM track t\n",
    "            WHERE t.album_id = (\n",
    "                SELECT\n",
    "                    t2.album_id\n",
    "                FROM track t2 \n",
    "                WHERE t2.track_id = ft.track_id\n",
    "            )\n",
    "                \n",
    "            EXCEPT\n",
    "                \n",
    "            --Select invoice tracks\n",
    "            SELECT\n",
    "                --i.invoice_id,\n",
    "                t.track_id\n",
    "            FROM\n",
    "                invoice i\n",
    "                INNER JOIN invoice_line il ON il.invoice_id = i.invoice_id\n",
    "                INNER JOIN track t ON t.track_id = il.track_id\n",
    "            WHERE\n",
    "                i.invoice_id = ft.invoice_id             \n",
    "            ) IS NULL\n",
    "        ) \n",
    "        THEN('yes') \n",
    "        ELSE('no')\n",
    "    END AS 'full_album'\n",
    "\n",
    "FROM first_tracks ft\n",
    ")\n",
    "\n",
    "SELECT \n",
    "    full_album,\n",
    "    COUNT(invoice_id) invoices,\n",
    "    CAST(COUNT(invoice_id) as float) / (SELECT COUNT(*) FROM invoice) percent\n",
    "FROM full_album fa\n",
    "GROUP BY 1\n",
    "\n",
    "\n",
    "\n",
    "''')\n",
    "\n",
    "run_query(q)"
   ]
  },
  {
   "cell_type": "markdown",
   "metadata": {
    "collapsed": true
   },
   "source": [
    "Album purchases accounts for 18.6% of the total sales. Therefore Chinook store should continue to buy full albums: doing the opposite could lead to a loss of revenues of about 20%"
   ]
  },
  {
   "cell_type": "code",
   "execution_count": null,
   "metadata": {},
   "outputs": [],
   "source": []
  }
 ],
 "metadata": {
  "kernelspec": {
   "display_name": "Python 3",
   "language": "python",
   "name": "python3"
  },
  "language_info": {
   "codemirror_mode": {
    "name": "ipython",
    "version": 3
   },
   "file_extension": ".py",
   "mimetype": "text/x-python",
   "name": "python",
   "nbconvert_exporter": "python",
   "pygments_lexer": "ipython3",
   "version": "3.6.7"
  }
 },
 "nbformat": 4,
 "nbformat_minor": 2
}
